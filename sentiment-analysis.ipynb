{
 "cells": [
  {
   "metadata": {
    "ExecuteTime": {
     "end_time": "2025-05-23T17:24:08.301059Z",
     "start_time": "2025-05-23T17:24:08.044373Z"
    }
   },
   "cell_type": "code",
   "source": [
    "import pandas as pd\n",
    "\n",
    "books = pd.read_csv('books_with_categories.csv')"
   ],
   "id": "498f9c0207daf90b",
   "outputs": [],
   "execution_count": 17
  },
  {
   "metadata": {
    "ExecuteTime": {
     "end_time": "2025-05-23T17:24:11.874464Z",
     "start_time": "2025-05-23T17:24:10.145073Z"
    }
   },
   "cell_type": "code",
   "source": [
    "from transformers import pipeline\n",
    "classifier = pipeline(\"text-classification\", model=\"j-hartmann/emotion-english-distilroberta-base\", top_k = None)\n",
    "classifier(\"I love this!\")"
   ],
   "id": "e7c94fc36645299b",
   "outputs": [
    {
     "name": "stderr",
     "output_type": "stream",
     "text": [
      "Device set to use cpu\n"
     ]
    },
    {
     "data": {
      "text/plain": [
       "[[{'label': 'joy', 'score': 0.9771687984466553},\n",
       "  {'label': 'surprise', 'score': 0.008528684265911579},\n",
       "  {'label': 'neutral', 'score': 0.005764586851000786},\n",
       "  {'label': 'anger', 'score': 0.004419783595949411},\n",
       "  {'label': 'sadness', 'score': 0.002092392183840275},\n",
       "  {'label': 'disgust', 'score': 0.0016119900392368436},\n",
       "  {'label': 'fear', 'score': 0.0004138521908316761}]]"
      ]
     },
     "execution_count": 18,
     "metadata": {},
     "output_type": "execute_result"
    }
   ],
   "execution_count": 18
  },
  {
   "metadata": {
    "ExecuteTime": {
     "end_time": "2025-05-23T17:26:25.496191Z",
     "start_time": "2025-05-23T17:26:25.462456Z"
    }
   },
   "cell_type": "code",
   "source": [
    "import numpy as np\n",
    "\n",
    "emotion_labels = [\"anger\", \"disgust\", \"fear\", \"joy\", \"sadness\", \"surprise\", \"neutral\"]\n",
    "isbn = []\n",
    "emotion_scores = {label: [] for label in emotion_labels}\n",
    "\n",
    "def calculate_max_emotion_scores(predictions):\n",
    "    per_emotion_scores = {label: [] for label in emotion_labels}\n",
    "    for prediction in predictions:\n",
    "        sorted_predictions = sorted(prediction, key=lambda x: x[\"label\"])\n",
    "        for index, label in enumerate(emotion_labels):\n",
    "            per_emotion_scores[label].append(sorted_predictions[index][\"score\"])\n",
    "    return {label: np.max(scores) for label, scores in per_emotion_scores.items()}"
   ],
   "id": "a87bbbad394c91cf",
   "outputs": [],
   "execution_count": 22
  },
  {
   "metadata": {
    "ExecuteTime": {
     "end_time": "2025-05-23T17:26:40.369103Z",
     "start_time": "2025-05-23T17:26:36.399016Z"
    }
   },
   "cell_type": "code",
   "source": [
    "for i in range(10):\n",
    "    isbn.append(books[\"isbn13\"][i])\n",
    "    sentences = books[\"description\"][i].split(\".\")\n",
    "    predictions = classifier(sentences)\n",
    "    max_scores = calculate_max_emotion_scores(predictions)\n",
    "    for label in emotion_labels:\n",
    "        emotion_scores[label].append(max_scores[label])"
   ],
   "id": "b2c047230a450653",
   "outputs": [],
   "execution_count": 23
  },
  {
   "metadata": {
    "ExecuteTime": {
     "end_time": "2025-05-23T17:26:50.503412Z",
     "start_time": "2025-05-23T17:26:50.494995Z"
    }
   },
   "cell_type": "code",
   "source": "emotion_scores",
   "id": "4337f9ee0abb53be",
   "outputs": [
    {
     "data": {
      "text/plain": [
       "{'anger': [np.float64(0.06413355469703674),\n",
       "  np.float64(0.6126194000244141),\n",
       "  np.float64(0.06413355469703674),\n",
       "  np.float64(0.35148441791534424),\n",
       "  np.float64(0.08141238987445831),\n",
       "  np.float64(0.23222465813159943),\n",
       "  np.float64(0.5381842255592346),\n",
       "  np.float64(0.06413355469703674),\n",
       "  np.float64(0.3006700873374939),\n",
       "  np.float64(0.06413355469703674)],\n",
       " 'disgust': [np.float64(0.27359139919281006),\n",
       "  np.float64(0.3482847809791565),\n",
       "  np.float64(0.10400658845901489),\n",
       "  np.float64(0.1507224589586258),\n",
       "  np.float64(0.18449527025222778),\n",
       "  np.float64(0.7271749377250671),\n",
       "  np.float64(0.155854731798172),\n",
       "  np.float64(0.10400658845901489),\n",
       "  np.float64(0.279481440782547),\n",
       "  np.float64(0.17792704701423645)],\n",
       " 'fear': [np.float64(0.9281681180000305),\n",
       "  np.float64(0.9425276517868042),\n",
       "  np.float64(0.9723208546638489),\n",
       "  np.float64(0.36070606112480164),\n",
       "  np.float64(0.09504339843988419),\n",
       "  np.float64(0.05136274918913841),\n",
       "  np.float64(0.7474274635314941),\n",
       "  np.float64(0.40449756383895874),\n",
       "  np.float64(0.9155240654945374),\n",
       "  np.float64(0.05136274918913841)],\n",
       " 'joy': [np.float64(0.9327982664108276),\n",
       "  np.float64(0.7044221758842468),\n",
       "  np.float64(0.7672382593154907),\n",
       "  np.float64(0.2518813908100128),\n",
       "  np.float64(0.040564365684986115),\n",
       "  np.float64(0.043375786393880844),\n",
       "  np.float64(0.8725655674934387),\n",
       "  np.float64(0.040564365684986115),\n",
       "  np.float64(0.040564365684986115),\n",
       "  np.float64(0.040564365684986115)],\n",
       " 'sadness': [np.float64(0.6462157964706421),\n",
       "  np.float64(0.8879395127296448),\n",
       "  np.float64(0.5494772791862488),\n",
       "  np.float64(0.7326847910881042),\n",
       "  np.float64(0.8843898177146912),\n",
       "  np.float64(0.621392011642456),\n",
       "  np.float64(0.71219402551651),\n",
       "  np.float64(0.5494772791862488),\n",
       "  np.float64(0.840289294719696),\n",
       "  np.float64(0.8603721857070923)],\n",
       " 'surprise': [np.float64(0.9671575427055359),\n",
       "  np.float64(0.11169009655714035),\n",
       "  np.float64(0.11169009655714035),\n",
       "  np.float64(0.11169009655714035),\n",
       "  np.float64(0.47588005661964417),\n",
       "  np.float64(0.11169009655714035),\n",
       "  np.float64(0.40800145268440247),\n",
       "  np.float64(0.8202825784683228),\n",
       "  np.float64(0.35446134209632874),\n",
       "  np.float64(0.11169009655714035)],\n",
       " 'neutral': [np.float64(0.729602038860321),\n",
       "  np.float64(0.2525460422039032),\n",
       "  np.float64(0.07876544445753098),\n",
       "  np.float64(0.07876544445753098),\n",
       "  np.float64(0.07876544445753098),\n",
       "  np.float64(0.2719033658504486),\n",
       "  np.float64(0.07876544445753098),\n",
       "  np.float64(0.23448672890663147),\n",
       "  np.float64(0.13561387360095978),\n",
       "  np.float64(0.07876544445753098)]}"
      ]
     },
     "execution_count": 24,
     "metadata": {},
     "output_type": "execute_result"
    }
   ],
   "execution_count": 24
  },
  {
   "metadata": {
    "ExecuteTime": {
     "end_time": "2025-05-23T18:04:46.999929Z",
     "start_time": "2025-05-23T17:27:29.938425Z"
    }
   },
   "cell_type": "code",
   "source": [
    "from tqdm import tqdm\n",
    "\n",
    "emotion_labels = [\"anger\", \"disgust\", \"fear\", \"joy\", \"sadness\", \"surprise\", \"neutral\"]\n",
    "isbn = []\n",
    "emotion_scores = {label: [] for label in emotion_labels}\n",
    "\n",
    "for i in tqdm(range(len(books))):\n",
    "    isbn.append(books[\"isbn13\"][i])\n",
    "    sentences = books[\"description\"][i].split(\".\")\n",
    "    predictions = classifier(sentences)\n",
    "    max_scores = calculate_max_emotion_scores(predictions)\n",
    "    for label in emotion_labels:\n",
    "        emotion_scores[label].append(max_scores[label])"
   ],
   "id": "2a1930055eac4d69",
   "outputs": [
    {
     "name": "stderr",
     "output_type": "stream",
     "text": [
      "100%|██████████| 5230/5230 [37:16<00:00,  2.34it/s]  \n"
     ]
    }
   ],
   "execution_count": 25
  },
  {
   "metadata": {
    "ExecuteTime": {
     "end_time": "2025-05-23T18:07:27.465544Z",
     "start_time": "2025-05-23T18:07:27.430184Z"
    }
   },
   "cell_type": "code",
   "source": [
    "emotions_df = pd.DataFrame(emotion_scores)\n",
    "emotions_df[\"isbn13\"] = isbn"
   ],
   "id": "631575b485fe8ec5",
   "outputs": [],
   "execution_count": 27
  },
  {
   "metadata": {
    "ExecuteTime": {
     "end_time": "2025-05-23T18:09:24.976508Z",
     "start_time": "2025-05-23T18:09:24.953590Z"
    }
   },
   "cell_type": "code",
   "source": "emotions_df",
   "id": "8135c72197977772",
   "outputs": [
    {
     "data": {
      "text/plain": [
       "         anger   disgust      fear       joy   sadness  surprise   neutral  \\\n",
       "0     0.064134  0.273591  0.928168  0.932798  0.646216  0.967158  0.729602   \n",
       "1     0.612619  0.348285  0.942528  0.704422  0.887940  0.111690  0.252546   \n",
       "2     0.064134  0.104007  0.972321  0.767238  0.549477  0.111690  0.078765   \n",
       "3     0.351484  0.150722  0.360706  0.251881  0.732685  0.111690  0.078765   \n",
       "4     0.081412  0.184495  0.095043  0.040564  0.884390  0.475880  0.078765   \n",
       "...        ...       ...       ...       ...       ...       ...       ...   \n",
       "5225  0.148208  0.030643  0.919165  0.255172  0.853721  0.980877  0.030656   \n",
       "5226  0.064134  0.114383  0.051363  0.400263  0.883198  0.111690  0.227765   \n",
       "5227  0.009997  0.009929  0.339218  0.947779  0.375754  0.066685  0.057625   \n",
       "5228  0.064134  0.104007  0.459268  0.759456  0.951104  0.368111  0.078765   \n",
       "5229  0.064134  0.104007  0.051363  0.958549  0.915193  0.111690  0.078765   \n",
       "\n",
       "            isbn13  \n",
       "0     9.780000e+12  \n",
       "1     9.780000e+12  \n",
       "2     9.780010e+12  \n",
       "3     9.780010e+12  \n",
       "4     9.780010e+12  \n",
       "...            ...  \n",
       "5225  9.788170e+12  \n",
       "5226  9.788170e+12  \n",
       "5227  9.788180e+12  \n",
       "5228  9.788190e+12  \n",
       "5229  9.789030e+12  \n",
       "\n",
       "[5230 rows x 8 columns]"
      ],
      "text/html": [
       "<div>\n",
       "<style scoped>\n",
       "    .dataframe tbody tr th:only-of-type {\n",
       "        vertical-align: middle;\n",
       "    }\n",
       "\n",
       "    .dataframe tbody tr th {\n",
       "        vertical-align: top;\n",
       "    }\n",
       "\n",
       "    .dataframe thead th {\n",
       "        text-align: right;\n",
       "    }\n",
       "</style>\n",
       "<table border=\"1\" class=\"dataframe\">\n",
       "  <thead>\n",
       "    <tr style=\"text-align: right;\">\n",
       "      <th></th>\n",
       "      <th>anger</th>\n",
       "      <th>disgust</th>\n",
       "      <th>fear</th>\n",
       "      <th>joy</th>\n",
       "      <th>sadness</th>\n",
       "      <th>surprise</th>\n",
       "      <th>neutral</th>\n",
       "      <th>isbn13</th>\n",
       "    </tr>\n",
       "  </thead>\n",
       "  <tbody>\n",
       "    <tr>\n",
       "      <th>0</th>\n",
       "      <td>0.064134</td>\n",
       "      <td>0.273591</td>\n",
       "      <td>0.928168</td>\n",
       "      <td>0.932798</td>\n",
       "      <td>0.646216</td>\n",
       "      <td>0.967158</td>\n",
       "      <td>0.729602</td>\n",
       "      <td>9.780000e+12</td>\n",
       "    </tr>\n",
       "    <tr>\n",
       "      <th>1</th>\n",
       "      <td>0.612619</td>\n",
       "      <td>0.348285</td>\n",
       "      <td>0.942528</td>\n",
       "      <td>0.704422</td>\n",
       "      <td>0.887940</td>\n",
       "      <td>0.111690</td>\n",
       "      <td>0.252546</td>\n",
       "      <td>9.780000e+12</td>\n",
       "    </tr>\n",
       "    <tr>\n",
       "      <th>2</th>\n",
       "      <td>0.064134</td>\n",
       "      <td>0.104007</td>\n",
       "      <td>0.972321</td>\n",
       "      <td>0.767238</td>\n",
       "      <td>0.549477</td>\n",
       "      <td>0.111690</td>\n",
       "      <td>0.078765</td>\n",
       "      <td>9.780010e+12</td>\n",
       "    </tr>\n",
       "    <tr>\n",
       "      <th>3</th>\n",
       "      <td>0.351484</td>\n",
       "      <td>0.150722</td>\n",
       "      <td>0.360706</td>\n",
       "      <td>0.251881</td>\n",
       "      <td>0.732685</td>\n",
       "      <td>0.111690</td>\n",
       "      <td>0.078765</td>\n",
       "      <td>9.780010e+12</td>\n",
       "    </tr>\n",
       "    <tr>\n",
       "      <th>4</th>\n",
       "      <td>0.081412</td>\n",
       "      <td>0.184495</td>\n",
       "      <td>0.095043</td>\n",
       "      <td>0.040564</td>\n",
       "      <td>0.884390</td>\n",
       "      <td>0.475880</td>\n",
       "      <td>0.078765</td>\n",
       "      <td>9.780010e+12</td>\n",
       "    </tr>\n",
       "    <tr>\n",
       "      <th>...</th>\n",
       "      <td>...</td>\n",
       "      <td>...</td>\n",
       "      <td>...</td>\n",
       "      <td>...</td>\n",
       "      <td>...</td>\n",
       "      <td>...</td>\n",
       "      <td>...</td>\n",
       "      <td>...</td>\n",
       "    </tr>\n",
       "    <tr>\n",
       "      <th>5225</th>\n",
       "      <td>0.148208</td>\n",
       "      <td>0.030643</td>\n",
       "      <td>0.919165</td>\n",
       "      <td>0.255172</td>\n",
       "      <td>0.853721</td>\n",
       "      <td>0.980877</td>\n",
       "      <td>0.030656</td>\n",
       "      <td>9.788170e+12</td>\n",
       "    </tr>\n",
       "    <tr>\n",
       "      <th>5226</th>\n",
       "      <td>0.064134</td>\n",
       "      <td>0.114383</td>\n",
       "      <td>0.051363</td>\n",
       "      <td>0.400263</td>\n",
       "      <td>0.883198</td>\n",
       "      <td>0.111690</td>\n",
       "      <td>0.227765</td>\n",
       "      <td>9.788170e+12</td>\n",
       "    </tr>\n",
       "    <tr>\n",
       "      <th>5227</th>\n",
       "      <td>0.009997</td>\n",
       "      <td>0.009929</td>\n",
       "      <td>0.339218</td>\n",
       "      <td>0.947779</td>\n",
       "      <td>0.375754</td>\n",
       "      <td>0.066685</td>\n",
       "      <td>0.057625</td>\n",
       "      <td>9.788180e+12</td>\n",
       "    </tr>\n",
       "    <tr>\n",
       "      <th>5228</th>\n",
       "      <td>0.064134</td>\n",
       "      <td>0.104007</td>\n",
       "      <td>0.459268</td>\n",
       "      <td>0.759456</td>\n",
       "      <td>0.951104</td>\n",
       "      <td>0.368111</td>\n",
       "      <td>0.078765</td>\n",
       "      <td>9.788190e+12</td>\n",
       "    </tr>\n",
       "    <tr>\n",
       "      <th>5229</th>\n",
       "      <td>0.064134</td>\n",
       "      <td>0.104007</td>\n",
       "      <td>0.051363</td>\n",
       "      <td>0.958549</td>\n",
       "      <td>0.915193</td>\n",
       "      <td>0.111690</td>\n",
       "      <td>0.078765</td>\n",
       "      <td>9.789030e+12</td>\n",
       "    </tr>\n",
       "  </tbody>\n",
       "</table>\n",
       "<p>5230 rows × 8 columns</p>\n",
       "</div>"
      ]
     },
     "execution_count": 30,
     "metadata": {},
     "output_type": "execute_result"
    }
   ],
   "execution_count": 30
  },
  {
   "metadata": {},
   "cell_type": "code",
   "outputs": [],
   "execution_count": null,
   "source": "",
   "id": "2309f6e59201447b"
  }
 ],
 "metadata": {
  "kernelspec": {
   "name": "python3",
   "language": "python",
   "display_name": "Python 3 (ipykernel)"
  }
 },
 "nbformat": 5,
 "nbformat_minor": 9
}
